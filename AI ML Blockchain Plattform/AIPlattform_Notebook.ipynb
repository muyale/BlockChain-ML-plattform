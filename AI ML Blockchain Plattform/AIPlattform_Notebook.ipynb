{
 "cells": [
  {
   "cell_type": "code",
   "execution_count": 1,
   "id": "6f673b97",
   "metadata": {},
   "outputs": [],
   "source": [
    "import pandas as pd\n",
    "import numpy as np\n",
    "import torch\n",
    "from sklearn.preprocessing import StandardScaler\n",
    "from sklearn.model_selection import train_test_split"
   ]
  },
  {
   "cell_type": "code",
   "execution_count": 2,
   "id": "6eadf453",
   "metadata": {},
   "outputs": [],
   "source": [
    "df = pd.read_csv(\"C:\\\\Datasets\\\\Crypto\\\\dataset.csv\").head(2000)\n",
    "#json = df = pd.read_json(\"C:\\\\Datasets\\\\Crypto\\\\cryptocurrencies.json\")"
   ]
  },
  {
   "cell_type": "code",
   "execution_count": 3,
   "id": "8418135d",
   "metadata": {},
   "outputs": [
    {
     "data": {
      "text/plain": [
       "(2000, 10)"
      ]
     },
     "execution_count": 3,
     "metadata": {},
     "output_type": "execute_result"
    }
   ],
   "source": [
    "df.shape"
   ]
  },
  {
   "cell_type": "code",
   "execution_count": 4,
   "id": "2336b8e5",
   "metadata": {},
   "outputs": [
    {
     "data": {
      "text/html": [
       "<div>\n",
       "<style scoped>\n",
       "    .dataframe tbody tr th:only-of-type {\n",
       "        vertical-align: middle;\n",
       "    }\n",
       "\n",
       "    .dataframe tbody tr th {\n",
       "        vertical-align: top;\n",
       "    }\n",
       "\n",
       "    .dataframe thead th {\n",
       "        text-align: right;\n",
       "    }\n",
       "</style>\n",
       "<table border=\"1\" class=\"dataframe\">\n",
       "  <thead>\n",
       "    <tr style=\"text-align: right;\">\n",
       "      <th></th>\n",
       "      <th>Unnamed: 0</th>\n",
       "      <th>open</th>\n",
       "      <th>high</th>\n",
       "      <th>low</th>\n",
       "      <th>close</th>\n",
       "      <th>volume</th>\n",
       "      <th>marketCap</th>\n",
       "      <th>timestamp</th>\n",
       "      <th>crypto_name</th>\n",
       "      <th>date</th>\n",
       "    </tr>\n",
       "  </thead>\n",
       "  <tbody>\n",
       "    <tr>\n",
       "      <th>0</th>\n",
       "      <td>0</td>\n",
       "      <td>112.900002</td>\n",
       "      <td>118.800003</td>\n",
       "      <td>107.142998</td>\n",
       "      <td>115.910004</td>\n",
       "      <td>0.0</td>\n",
       "      <td>1.288693e+09</td>\n",
       "      <td>2013-05-05T23:59:59.999Z</td>\n",
       "      <td>Bitcoin</td>\n",
       "      <td>2013-05-05</td>\n",
       "    </tr>\n",
       "    <tr>\n",
       "      <th>1</th>\n",
       "      <td>1</td>\n",
       "      <td>3.493130</td>\n",
       "      <td>3.692460</td>\n",
       "      <td>3.346060</td>\n",
       "      <td>3.590890</td>\n",
       "      <td>0.0</td>\n",
       "      <td>6.229819e+07</td>\n",
       "      <td>2013-05-05T23:59:59.999Z</td>\n",
       "      <td>Litecoin</td>\n",
       "      <td>2013-05-05</td>\n",
       "    </tr>\n",
       "    <tr>\n",
       "      <th>2</th>\n",
       "      <td>2</td>\n",
       "      <td>115.980003</td>\n",
       "      <td>124.663002</td>\n",
       "      <td>106.639999</td>\n",
       "      <td>112.300003</td>\n",
       "      <td>0.0</td>\n",
       "      <td>1.249023e+09</td>\n",
       "      <td>2013-05-06T23:59:59.999Z</td>\n",
       "      <td>Bitcoin</td>\n",
       "      <td>2013-05-06</td>\n",
       "    </tr>\n",
       "    <tr>\n",
       "      <th>3</th>\n",
       "      <td>3</td>\n",
       "      <td>3.594220</td>\n",
       "      <td>3.781020</td>\n",
       "      <td>3.116020</td>\n",
       "      <td>3.371250</td>\n",
       "      <td>0.0</td>\n",
       "      <td>5.859436e+07</td>\n",
       "      <td>2013-05-06T23:59:59.999Z</td>\n",
       "      <td>Litecoin</td>\n",
       "      <td>2013-05-06</td>\n",
       "    </tr>\n",
       "    <tr>\n",
       "      <th>4</th>\n",
       "      <td>4</td>\n",
       "      <td>112.250000</td>\n",
       "      <td>113.444000</td>\n",
       "      <td>97.699997</td>\n",
       "      <td>111.500000</td>\n",
       "      <td>0.0</td>\n",
       "      <td>1.240594e+09</td>\n",
       "      <td>2013-05-07T23:59:59.999Z</td>\n",
       "      <td>Bitcoin</td>\n",
       "      <td>2013-05-07</td>\n",
       "    </tr>\n",
       "  </tbody>\n",
       "</table>\n",
       "</div>"
      ],
      "text/plain": [
       "   Unnamed: 0        open        high         low       close  volume  \\\n",
       "0           0  112.900002  118.800003  107.142998  115.910004     0.0   \n",
       "1           1    3.493130    3.692460    3.346060    3.590890     0.0   \n",
       "2           2  115.980003  124.663002  106.639999  112.300003     0.0   \n",
       "3           3    3.594220    3.781020    3.116020    3.371250     0.0   \n",
       "4           4  112.250000  113.444000   97.699997  111.500000     0.0   \n",
       "\n",
       "      marketCap                 timestamp crypto_name        date  \n",
       "0  1.288693e+09  2013-05-05T23:59:59.999Z     Bitcoin  2013-05-05  \n",
       "1  6.229819e+07  2013-05-05T23:59:59.999Z    Litecoin  2013-05-05  \n",
       "2  1.249023e+09  2013-05-06T23:59:59.999Z     Bitcoin  2013-05-06  \n",
       "3  5.859436e+07  2013-05-06T23:59:59.999Z    Litecoin  2013-05-06  \n",
       "4  1.240594e+09  2013-05-07T23:59:59.999Z     Bitcoin  2013-05-07  "
      ]
     },
     "execution_count": 4,
     "metadata": {},
     "output_type": "execute_result"
    }
   ],
   "source": [
    "df.head()"
   ]
  },
  {
   "cell_type": "code",
   "execution_count": 5,
   "id": "a67d61d3",
   "metadata": {},
   "outputs": [],
   "source": [
    "#df = df.drop(columns=['Unnamed: 0', 'date', 'crypto_name'],axis=1,inplace=True)"
   ]
  },
  {
   "cell_type": "code",
   "execution_count": 6,
   "id": "8923a055",
   "metadata": {},
   "outputs": [
    {
     "data": {
      "text/html": [
       "<div>\n",
       "<style scoped>\n",
       "    .dataframe tbody tr th:only-of-type {\n",
       "        vertical-align: middle;\n",
       "    }\n",
       "\n",
       "    .dataframe tbody tr th {\n",
       "        vertical-align: top;\n",
       "    }\n",
       "\n",
       "    .dataframe thead th {\n",
       "        text-align: right;\n",
       "    }\n",
       "</style>\n",
       "<table border=\"1\" class=\"dataframe\">\n",
       "  <thead>\n",
       "    <tr style=\"text-align: right;\">\n",
       "      <th></th>\n",
       "      <th>Unnamed: 0</th>\n",
       "      <th>open</th>\n",
       "      <th>high</th>\n",
       "      <th>low</th>\n",
       "      <th>close</th>\n",
       "      <th>volume</th>\n",
       "      <th>marketCap</th>\n",
       "      <th>timestamp</th>\n",
       "      <th>crypto_name</th>\n",
       "      <th>date</th>\n",
       "    </tr>\n",
       "  </thead>\n",
       "  <tbody>\n",
       "    <tr>\n",
       "      <th>0</th>\n",
       "      <td>0</td>\n",
       "      <td>112.900002</td>\n",
       "      <td>118.800003</td>\n",
       "      <td>107.142998</td>\n",
       "      <td>115.910004</td>\n",
       "      <td>0.0</td>\n",
       "      <td>1.288693e+09</td>\n",
       "      <td>2013-05-05T23:59:59.999Z</td>\n",
       "      <td>Bitcoin</td>\n",
       "      <td>2013-05-05</td>\n",
       "    </tr>\n",
       "    <tr>\n",
       "      <th>1</th>\n",
       "      <td>1</td>\n",
       "      <td>3.493130</td>\n",
       "      <td>3.692460</td>\n",
       "      <td>3.346060</td>\n",
       "      <td>3.590890</td>\n",
       "      <td>0.0</td>\n",
       "      <td>6.229819e+07</td>\n",
       "      <td>2013-05-05T23:59:59.999Z</td>\n",
       "      <td>Litecoin</td>\n",
       "      <td>2013-05-05</td>\n",
       "    </tr>\n",
       "    <tr>\n",
       "      <th>2</th>\n",
       "      <td>2</td>\n",
       "      <td>115.980003</td>\n",
       "      <td>124.663002</td>\n",
       "      <td>106.639999</td>\n",
       "      <td>112.300003</td>\n",
       "      <td>0.0</td>\n",
       "      <td>1.249023e+09</td>\n",
       "      <td>2013-05-06T23:59:59.999Z</td>\n",
       "      <td>Bitcoin</td>\n",
       "      <td>2013-05-06</td>\n",
       "    </tr>\n",
       "    <tr>\n",
       "      <th>3</th>\n",
       "      <td>3</td>\n",
       "      <td>3.594220</td>\n",
       "      <td>3.781020</td>\n",
       "      <td>3.116020</td>\n",
       "      <td>3.371250</td>\n",
       "      <td>0.0</td>\n",
       "      <td>5.859436e+07</td>\n",
       "      <td>2013-05-06T23:59:59.999Z</td>\n",
       "      <td>Litecoin</td>\n",
       "      <td>2013-05-06</td>\n",
       "    </tr>\n",
       "    <tr>\n",
       "      <th>4</th>\n",
       "      <td>4</td>\n",
       "      <td>112.250000</td>\n",
       "      <td>113.444000</td>\n",
       "      <td>97.699997</td>\n",
       "      <td>111.500000</td>\n",
       "      <td>0.0</td>\n",
       "      <td>1.240594e+09</td>\n",
       "      <td>2013-05-07T23:59:59.999Z</td>\n",
       "      <td>Bitcoin</td>\n",
       "      <td>2013-05-07</td>\n",
       "    </tr>\n",
       "  </tbody>\n",
       "</table>\n",
       "</div>"
      ],
      "text/plain": [
       "   Unnamed: 0        open        high         low       close  volume  \\\n",
       "0           0  112.900002  118.800003  107.142998  115.910004     0.0   \n",
       "1           1    3.493130    3.692460    3.346060    3.590890     0.0   \n",
       "2           2  115.980003  124.663002  106.639999  112.300003     0.0   \n",
       "3           3    3.594220    3.781020    3.116020    3.371250     0.0   \n",
       "4           4  112.250000  113.444000   97.699997  111.500000     0.0   \n",
       "\n",
       "      marketCap                 timestamp crypto_name        date  \n",
       "0  1.288693e+09  2013-05-05T23:59:59.999Z     Bitcoin  2013-05-05  \n",
       "1  6.229819e+07  2013-05-05T23:59:59.999Z    Litecoin  2013-05-05  \n",
       "2  1.249023e+09  2013-05-06T23:59:59.999Z     Bitcoin  2013-05-06  \n",
       "3  5.859436e+07  2013-05-06T23:59:59.999Z    Litecoin  2013-05-06  \n",
       "4  1.240594e+09  2013-05-07T23:59:59.999Z     Bitcoin  2013-05-07  "
      ]
     },
     "execution_count": 6,
     "metadata": {},
     "output_type": "execute_result"
    }
   ],
   "source": [
    "df.head()"
   ]
  },
  {
   "cell_type": "markdown",
   "id": "d23f86ec",
   "metadata": {},
   "source": [
    "# DATA PREPROCESSING "
   ]
  },
  {
   "cell_type": "code",
   "execution_count": 7,
   "id": "b604915b",
   "metadata": {},
   "outputs": [],
   "source": [
    "X = df.drop(columns=['Unnamed: 0', 'date', 'crypto_name','marketCap','timestamp'],axis=1).values\n",
    "y = df['marketCap'].values.reshape(-1,1)\n",
    "\n",
    "# Split the data into training and testing sets\n",
    "X_train, X_test, y_train, y_test = train_test_split(X, y, test_size=0.2, random_state=42)\n",
    "\n",
    "# Standardize the data\n",
    "scaler = StandardScaler()\n",
    "X_train = scaler.fit_transform(X_train)\n",
    "X_test = scaler.fit_transform(X_test)\n"
   ]
  },
  {
   "cell_type": "code",
   "execution_count": 8,
   "id": "3b54663d",
   "metadata": {},
   "outputs": [],
   "source": [
    "X_train = torch.from_numpy(X_train).type(torch.Tensor)\n",
    "X_test = torch.from_numpy(X_test).type(torch.Tensor)\n",
    "y_train = torch.from_numpy(y_train).type(torch.Tensor)\n",
    "y_test = torch.from_numpy(y_test).type(torch.Tensor)"
   ]
  },
  {
   "cell_type": "code",
   "execution_count": 9,
   "id": "2ed6e295",
   "metadata": {},
   "outputs": [],
   "source": [
    "import torch\n",
    "import torch.nn as nn\n",
    "import torch.optim as optim\n",
    "\n",
    "# Define the neural network model\n",
    "class CryptoPredictor(nn.Module):\n",
    "    def __init__(self, input_size):\n",
    "        super(CryptoPredictor, self).__init__()\n",
    "        self.fc1 = nn.Linear(input_size, 25)\n",
    "        self.fc2 = nn.Linear(25, 100)\n",
    "        self.fc3 = nn.Linear(100, 1)\n",
    "\n",
    "    def forward(self, x):\n",
    "        x = torch.relu(self.fc1(x))\n",
    "        x = torch.relu(self.fc2(x))\n",
    "        x = self.fc3(x)\n",
    "        return x"
   ]
  },
  {
   "cell_type": "markdown",
   "id": "64bd9ed1",
   "metadata": {},
   "source": [
    "# Model Training"
   ]
  },
  {
   "cell_type": "code",
   "execution_count": 10,
   "id": "c4b4eb29",
   "metadata": {},
   "outputs": [
    {
     "data": {
      "text/plain": [
       "torch.Size([1600, 1])"
      ]
     },
     "execution_count": 10,
     "metadata": {},
     "output_type": "execute_result"
    }
   ],
   "source": [
    "y_train.shape"
   ]
  },
  {
   "cell_type": "code",
   "execution_count": 11,
   "id": "9df2ec37",
   "metadata": {},
   "outputs": [
    {
     "data": {
      "text/plain": [
       "torch.Size([1600, 5])"
      ]
     },
     "execution_count": 11,
     "metadata": {},
     "output_type": "execute_result"
    }
   ],
   "source": [
    "X_train.shape"
   ]
  },
  {
   "cell_type": "code",
   "execution_count": 12,
   "id": "fd8ea70f",
   "metadata": {},
   "outputs": [
    {
     "name": "stdout",
     "output_type": "stream",
     "text": [
      "Epoch [10/100], Loss: 10520419724653756416.0000\n",
      "Epoch [20/100], Loss: 10520419724653756416.0000\n",
      "Epoch [30/100], Loss: 10520419724653756416.0000\n",
      "Epoch [40/100], Loss: 10520419724653756416.0000\n",
      "Epoch [50/100], Loss: 10520419724653756416.0000\n",
      "Epoch [60/100], Loss: 10520419724653756416.0000\n",
      "Epoch [70/100], Loss: 10520419724653756416.0000\n",
      "Epoch [80/100], Loss: 10520419724653756416.0000\n",
      "Epoch [90/100], Loss: 10520419724653756416.0000\n",
      "Epoch [100/100], Loss: 10520419724653756416.0000\n"
     ]
    }
   ],
   "source": [
    "# Initialize the model, loss function, and optimizer\n",
    "input_size = X_train.shape[1]\n",
    "model = CryptoPredictor(input_size)\n",
    "criterion = nn.MSELoss()\n",
    "optimizer = optim.Adam(model.parameters(), lr=0.001)\n",
    "\n",
    "\n",
    "\n",
    "# Train the model\n",
    "epochs = 100\n",
    "for epoch in range(epochs):\n",
    "    model.train()\n",
    "    optimizer.zero_grad()\n",
    "    outputs = model(X_train)\n",
    "    loss = criterion(outputs, y_train)\n",
    "    loss.backward()\n",
    "    optimizer.step()\n",
    "\n",
    "    if (epoch+1) % 10 == 0:\n",
    "        print(f'Epoch [{epoch+1}/{epochs}], Loss: {loss.item():.4f}')\n",
    "\n",
    "# Save the trained model\n",
    "torch.save(model.state_dict(), 'crypto_predictor.pth')\n"
   ]
  },
  {
   "cell_type": "code",
   "execution_count": 13,
   "id": "11001f68",
   "metadata": {},
   "outputs": [],
   "source": [
    "def predict_market_cap(open, high, low, close, volume):\n",
    "    try:\n",
    "        data = [[open, high, low, close, volume]]\n",
    "\n",
    "        data = scaler.transform(data)\n",
    "\n",
    "        data_tensor = torch.tensor(data, dtype=torch.float32)\n",
    "\n",
    "        prediction = model(data_tensor).item()\n",
    "        return prediction\n",
    "    except Exception as e:\n",
    "        return f\"An error occurred: {str(e)}\""
   ]
  },
  {
   "cell_type": "code",
   "execution_count": 15,
   "id": "f763605e",
   "metadata": {},
   "outputs": [
    {
     "name": "stdout",
     "output_type": "stream",
     "text": [
      "Running on local URL:  http://127.0.0.1:7861\n",
      "IMPORTANT: You are using gradio version 4.12.0, however version 4.29.0 is available, please upgrade.\n",
      "--------\n",
      "\n",
      "To create a public link, set `share=True` in `launch()`.\n"
     ]
    },
    {
     "data": {
      "text/html": [
       "<div><iframe src=\"http://127.0.0.1:7861/\" width=\"100%\" height=\"500\" allow=\"autoplay; camera; microphone; clipboard-read; clipboard-write;\" frameborder=\"0\" allowfullscreen></iframe></div>"
      ],
      "text/plain": [
       "<IPython.core.display.HTML object>"
      ]
     },
     "metadata": {},
     "output_type": "display_data"
    },
    {
     "data": {
      "text/plain": []
     },
     "execution_count": 15,
     "metadata": {},
     "output_type": "execute_result"
    }
   ],
   "source": [
    "import gradio as gr\n",
    "\n",
    "def predict_market_cap(open, high, low, close, volume):\n",
    "    # Your prediction logic using the loaded model and scaler\n",
    "    data = [[open, high, low, close, volume]]\n",
    "    data = scaler.transform(data)\n",
    "    data_tensor = torch.tensor(data, dtype=torch.float32)\n",
    "    prediction = model(data_tensor).item()\n",
    "    return prediction\n",
    "\n",
    "# Define inputs and outputs using Gradio v3 syntax\n",
    "inputs = [\n",
    "    gr.Number(label=\"open\"),\n",
    "    gr.Number(label=\"high\"),\n",
    "    gr.Number(label=\"low\"),\n",
    "    gr.Number(label=\"close\"),\n",
    "    gr.Number(label=\"volume\"),\n",
    "]\n",
    "outputs = gr.Textbox(label=\"Predicted Market Cap\") \n",
    "\n",
    "# Create the Gradio interface\n",
    "ui = gr.Interface(\n",
    "    fn=predict_market_cap,\n",
    "    inputs=inputs,\n",
    "    outputs=outputs,\n",
    "    title=\"Blockchain AI Plattform\"\n",
    ")\n",
    "\n",
    "ui.launch()\n"
   ]
  },
  {
   "cell_type": "code",
   "execution_count": null,
   "id": "179e764a",
   "metadata": {},
   "outputs": [],
   "source": []
  },
  {
   "cell_type": "code",
   "execution_count": null,
   "id": "c3737a99",
   "metadata": {},
   "outputs": [],
   "source": []
  }
 ],
 "metadata": {
  "kernelspec": {
   "display_name": "Python 3 (ipykernel)",
   "language": "python",
   "name": "python3"
  },
  "language_info": {
   "codemirror_mode": {
    "name": "ipython",
    "version": 3
   },
   "file_extension": ".py",
   "mimetype": "text/x-python",
   "name": "python",
   "nbconvert_exporter": "python",
   "pygments_lexer": "ipython3",
   "version": "3.9.13"
  }
 },
 "nbformat": 4,
 "nbformat_minor": 5
}
